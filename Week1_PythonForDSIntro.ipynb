{
  "nbformat": 4,
  "nbformat_minor": 0,
  "metadata": {
    "colab": {
      "provenance": []
    },
    "kernelspec": {
      "name": "python3",
      "display_name": "Python 3"
    },
    "language_info": {
      "name": "python"
    }
  },
  "cells": [
    {
      "cell_type": "markdown",
      "source": [
        "\n",
        "#Header\n",
        "##Subheader\n",
        "##SubSubHeader\n",
        "\n",
        "This here is subtext. Each one of these boxes is a cell. There are two types of cells, we\n",
        "have code and text. That is self explanatory."
      ],
      "metadata": {
        "id": "F2Ime4HPM4Sr"
      }
    },
    {
      "cell_type": "markdown",
      "source": [
        "##Introduction"
      ],
      "metadata": {
        "id": "qRFKJjFPZtL2"
      }
    },
    {
      "cell_type": "code",
      "source": [
        "2+2\n"
      ],
      "metadata": {
        "colab": {
          "base_uri": "https://localhost:8080/"
        },
        "id": "QtwZC3wBMnEJ",
        "outputId": "7684e58c-687b-48cb-b997-442c054bbc8f"
      },
      "execution_count": 3,
      "outputs": [
        {
          "output_type": "execute_result",
          "data": {
            "text/plain": [
              "4"
            ]
          },
          "metadata": {},
          "execution_count": 3
        }
      ]
    },
    {
      "cell_type": "code",
      "source": [
        "2+2\n",
        "4+4\n",
        "\n",
        "'two' + 'two'\n",
        "\n",
        "a=10\n",
        "b=2.3\n",
        "c= a*b\n",
        "print(c)\n",
        "print(type(c))\n",
        " # we didn't save the info of 2x2 to anything so it'll just output the last item calculated. Also in the code cells anything after a hashtag is a comment."
      ],
      "metadata": {
        "colab": {
          "base_uri": "https://localhost:8080/"
        },
        "id": "Yf6z0GBKMnXy",
        "outputId": "95ddb267-f6bf-4ace-8104-3e4d89405567"
      },
      "execution_count": 4,
      "outputs": [
        {
          "output_type": "stream",
          "name": "stdout",
          "text": [
            "23.0\n",
            "<class 'float'>\n"
          ]
        }
      ]
    },
    {
      "cell_type": "code",
      "source": [
        "print(2+2)\n",
        "print(4+4)"
      ],
      "metadata": {
        "colab": {
          "base_uri": "https://localhost:8080/"
        },
        "id": "YMlMWootMnhs",
        "outputId": "0735317f-9965-4aa4-ec08-ce70d76232a8"
      },
      "execution_count": 5,
      "outputs": [
        {
          "output_type": "stream",
          "name": "stdout",
          "text": [
            "4\n",
            "8\n"
          ]
        }
      ]
    },
    {
      "cell_type": "code",
      "source": [
        "print('Hello World')"
      ],
      "metadata": {
        "colab": {
          "base_uri": "https://localhost:8080/"
        },
        "id": "noxBW5xNMnrO",
        "outputId": "af8fe0e1-2907-4ea0-dc12-65acf2483eaa"
      },
      "execution_count": 6,
      "outputs": [
        {
          "output_type": "stream",
          "name": "stdout",
          "text": [
            "Hello World\n"
          ]
        }
      ]
    },
    {
      "cell_type": "code",
      "source": [
        "#print('hello'+5)\n",
        "#This will print an error since we can only concatenate strings not integers to strings"
      ],
      "metadata": {
        "id": "q5FwsvE3_nyl"
      },
      "execution_count": 7,
      "outputs": []
    },
    {
      "cell_type": "code",
      "source": [
        "print('Hello World', 2+2,'This is python')"
      ],
      "metadata": {
        "colab": {
          "base_uri": "https://localhost:8080/"
        },
        "id": "K9mFtItTMnxg",
        "outputId": "39d01d8b-dcf8-4d08-89ce-88c4c5679df5"
      },
      "execution_count": 8,
      "outputs": [
        {
          "output_type": "stream",
          "name": "stdout",
          "text": [
            "Hello World 4 This is python\n"
          ]
        }
      ]
    },
    {
      "cell_type": "code",
      "source": [
        "print('Hello World',2+2,'This is python', sep='')"
      ],
      "metadata": {
        "colab": {
          "base_uri": "https://localhost:8080/"
        },
        "id": "30B8mlGGMn1_",
        "outputId": "335d112a-e40e-465a-d0cd-96bfb053cbd0"
      },
      "execution_count": 9,
      "outputs": [
        {
          "output_type": "stream",
          "name": "stdout",
          "text": [
            "Hello World4This is python\n"
          ]
        }
      ]
    },
    {
      "cell_type": "markdown",
      "source": [
        "##1.1-1.3 Intro to Variables\n",
        "\n",
        "A mobile store MobiWorld sells different mobile phones to customers. For each order that is placed, the store keeps a record of various attributes related to the mobile, like Price, Brand, RAM (GB), and Internal Storage (GB).\n",
        "\n",
        "Let's learn Python using the context of the store's data.\n",
        "We have to store variables to python.\n",
        "We won't really create objects in python, but we will use variables and need to store these variables so that we can edit these later as well.\n",
        "\n",
        "Variables have rules:\n",
        "**They must start with a letter.**"
      ],
      "metadata": {
        "id": "KenvOAbTXygP"
      }
    },
    {
      "cell_type": "code",
      "source": [
        "price= 900\n",
        "brand= 'Apple'\n",
        "ram = 4\n",
        "storage= 128\n",
        "print('The price of the mobile phone is $',price, sep='')\n",
        "print('The Brand of the mobile phone is ', brand)\n",
        "print('The RAM of the mobile is ',ram, ' GB' ,sep='')\n",
        "print('The internal sotrage of the mobile is ',storage, ' GB.', sep='')"
      ],
      "metadata": {
        "colab": {
          "base_uri": "https://localhost:8080/"
        },
        "id": "2ZDRlyzcMn6O",
        "outputId": "0a4d17fa-404c-4d6c-aa8c-7b55e4fe75b1"
      },
      "execution_count": 10,
      "outputs": [
        {
          "output_type": "stream",
          "name": "stdout",
          "text": [
            "The price of the mobile phone is $900\n",
            "The Brand of the mobile phone is  Apple\n",
            "The RAM of the mobile is 4 GB\n",
            "The internal sotrage of the mobile is 128 GB.\n"
          ]
        }
      ]
    },
    {
      "cell_type": "markdown",
      "source": [
        "Q. Let's say the store wants to save the information on the billing status of the above phone in a boolean variable. Write the code in Python to implement the same."
      ],
      "metadata": {
        "id": "-eFi_cR0AiJ1"
      }
    },
    {
      "cell_type": "markdown",
      "source": [
        "## 1.4-1.5 Types of Variables.\n",
        "Types of variables\n",
        "Boolean== true or false\n",
        "Int== whole number\n",
        "Str== collection of characters\n",
        "type()= is a function so that you can check and see what kind of variable something is."
      ],
      "metadata": {
        "id": "dBX8MceTZidd"
      }
    },
    {
      "cell_type": "code",
      "source": [
        "is_billed= True\n",
        "print(is_billed)"
      ],
      "metadata": {
        "colab": {
          "base_uri": "https://localhost:8080/"
        },
        "id": "IQacuhneMn-H",
        "outputId": "2301e150-2bc6-4e24-dc17-9da7231aceaa"
      },
      "execution_count": 11,
      "outputs": [
        {
          "output_type": "stream",
          "name": "stdout",
          "text": [
            "True\n"
          ]
        }
      ]
    },
    {
      "cell_type": "markdown",
      "source": [
        "The value that we store in a variable can be a number or a set of characters or a boolean variable (True/False). For example, a price is a number while the brand name is a set of characters which is also known as a string in python. Whenever we store a value in a variable, Python automatically assigns a data type to that variable based on the value. It also allows us to check the data type of the variable.\n",
        "\n",
        "Q. Check the data type of the variables **price**, **brand**, **ram**, and **storage**"
      ],
      "metadata": {
        "id": "d1ZmxW9NAk5c"
      }
    },
    {
      "cell_type": "code",
      "source": [
        "# check the data-type using the type function\n",
        "type(price)\n",
        "type(brand)\n",
        "type(ram)\n",
        "\n",
        "type(storage)\n",
        "type(is_billed)"
      ],
      "metadata": {
        "colab": {
          "base_uri": "https://localhost:8080/"
        },
        "id": "IoARTV-4A2Bb",
        "outputId": "552ccd7a-6bb8-42b4-a603-2bd85ee44ab9"
      },
      "execution_count": 12,
      "outputs": [
        {
          "output_type": "execute_result",
          "data": {
            "text/plain": [
              "bool"
            ]
          },
          "metadata": {},
          "execution_count": 12
        }
      ]
    },
    {
      "cell_type": "code",
      "source": [
        "# calcuate the total bill and store it in variable 'bill'\n",
        "bill = price + price\n",
        "# the same result can be achieved by multiplication.\n",
        "bill = price*2\n",
        "print('The bill amount is $',bill,sep='')"
      ],
      "metadata": {
        "colab": {
          "base_uri": "https://localhost:8080/"
        },
        "id": "n14ZXgGkA0Tt",
        "outputId": "120d36bb-37b4-4603-b436-c7141518a800"
      },
      "execution_count": 13,
      "outputs": [
        {
          "output_type": "stream",
          "name": "stdout",
          "text": [
            "The bill amount is $1800\n"
          ]
        }
      ]
    },
    {
      "cell_type": "code",
      "source": [
        "# store the price (in dollars) of the mobile in variable 'price'\n",
        "price = 900\n",
        "# store the discount amount in variable 'discount'\n",
        "discount = 15\n",
        "# calculate the discounted price\n",
        "price_after_discount = price - discount\n",
        "print('The price of the iPhone after the discount is $',price_after_discount,sep='')"
      ],
      "metadata": {
        "colab": {
          "base_uri": "https://localhost:8080/"
        },
        "id": "F-OGhx1mAwvO",
        "outputId": "e7d2185e-63d7-482b-e71a-af3ca9677d05"
      },
      "execution_count": 14,
      "outputs": [
        {
          "output_type": "stream",
          "name": "stdout",
          "text": [
            "The price of the iPhone after the discount is $885\n"
          ]
        }
      ]
    },
    {
      "cell_type": "code",
      "source": [
        "# store the bill (in dollars) of the mobile in variable 'bill'\n",
        "bill = 3600\n",
        "# store the price (in dollars) of the mobile in variable 'price'\n",
        "price = 900\n",
        "# calculate the number of iPhones that the customer buys\n",
        "x = bill // price\n",
        "# double divided forces the answer to be an integer!\n",
        "print('The customer buys', x, 'Apple iPhones')"
      ],
      "metadata": {
        "colab": {
          "base_uri": "https://localhost:8080/"
        },
        "id": "StbhHW_gAy69",
        "outputId": "0d189a89-4cb0-4a00-8ada-527cf6f4be0d"
      },
      "execution_count": 15,
      "outputs": [
        {
          "output_type": "stream",
          "name": "stdout",
          "text": [
            "The customer buys 4 Apple iPhones\n"
          ]
        }
      ]
    },
    {
      "cell_type": "markdown",
      "source": [
        "##1.6 Type conversion in Variables."
      ],
      "metadata": {
        "id": "0ohtC-eFEH94"
      }
    },
    {
      "cell_type": "code",
      "source": [
        "price = 900\n",
        "discount = price *0.25\n",
        "finalPrice= price -discount\n",
        "brand= 'Apple'\n",
        "ram = 4\n",
        "print('The discounted price of the iphone is '+str(finalPrice))\n",
        "print(type(finalPrice))\n",
        "print(type(price))\n",
        "\n",
        "#Python cannot do implicit ocnversions and will not concatenate int to strings you cannot add them together\n",
        "#but you can do an implicit conversion for such cases\n",
        "brand+ ' '+ str(ram)+ 'GB'\n"
      ],
      "metadata": {
        "colab": {
          "base_uri": "https://localhost:8080/",
          "height": 87
        },
        "id": "--q36rS7EJkm",
        "outputId": "e13bffce-e0b6-49f3-9be9-85b0061f9aa2"
      },
      "execution_count": 16,
      "outputs": [
        {
          "output_type": "stream",
          "name": "stdout",
          "text": [
            "The discounted price of the iphone is 675.0\n",
            "<class 'float'>\n",
            "<class 'int'>\n"
          ]
        },
        {
          "output_type": "execute_result",
          "data": {
            "text/plain": [
              "'Apple 4GB'"
            ],
            "application/vnd.google.colaboratory.intrinsic+json": {
              "type": "string"
            }
          },
          "metadata": {},
          "execution_count": 16
        }
      ]
    },
    {
      "cell_type": "code",
      "source": [
        "type(discount)"
      ],
      "metadata": {
        "colab": {
          "base_uri": "https://localhost:8080/"
        },
        "id": "Odia_rgyBL3E",
        "outputId": "708490c4-7f22-4e1e-fabd-9005fbf6f37e"
      },
      "execution_count": 17,
      "outputs": [
        {
          "output_type": "execute_result",
          "data": {
            "text/plain": [
              "float"
            ]
          },
          "metadata": {},
          "execution_count": 17
        }
      ]
    },
    {
      "cell_type": "markdown",
      "source": [
        "##1.7 Data Structures List\n",
        "For this lets imagine the store we have sells various brands.\n",
        "We can create a LIST variable to store all the brand names in the store.\n",
        "Lists are a data structure in python and are used to store the data items inside square brackets[] Where each data item is separated by a comma."
      ],
      "metadata": {
        "id": "DVZ2P7D7EIxR"
      }
    },
    {
      "cell_type": "code",
      "source": [
        "#Creating a list.\n",
        "#syntax is (name)_list= ['x','y','z','1','2',] so....\n",
        "brand_list= ['Apple','Samsung','LG','Huawei']\n",
        "print(type(brand_list))\n",
        "\n",
        "#We can create lists for other attributes also.\n",
        "ram_list= [4,12,8,8]\n",
        "storage_list=[128,128,64,128]\n",
        "price_list=[900,899, 600, 1000]\n",
        "print('Ram List:', ram_list)\n",
        "print('Storage List:', storage_list)\n",
        "print('Price List:', price_list)\n",
        "\n",
        "\n",
        "# we can get details of a list such as min, max, length, selecting an index\n",
        "print(len(ram_list))\n",
        "print(min(storage_list))\n",
        "print('The maximum price is $'+str(max(price_list)))\n",
        "print(price_list[2])\n",
        "print(price_list[0:2])\n",
        "print(price_list[-1]) # prints the last value of a list\n",
        "price_list.pop(3) # for pop you need the index\n",
        "print(price_list)\n",
        "price_list.append(1500) # for append you need just the value since it goes at the end of the list anyway.\n",
        "print(price_list)\n",
        "\n",
        "brand_list[3]='Motorola'  #is the assignment operator where you select the exact index and assign its value in one command.\n",
        "print(brand_list)\n",
        "\n"
      ],
      "metadata": {
        "colab": {
          "base_uri": "https://localhost:8080/"
        },
        "id": "51N1K75xH0Tc",
        "outputId": "af168553-6ce2-4a59-e187-14af0893152d"
      },
      "execution_count": 18,
      "outputs": [
        {
          "output_type": "stream",
          "name": "stdout",
          "text": [
            "<class 'list'>\n",
            "Ram List: [4, 12, 8, 8]\n",
            "Storage List: [128, 128, 64, 128]\n",
            "Price List: [900, 899, 600, 1000]\n",
            "4\n",
            "64\n",
            "The maximum price is $1000\n",
            "600\n",
            "[900, 899]\n",
            "1000\n",
            "[900, 899, 600]\n",
            "[900, 899, 600, 1500]\n",
            "['Apple', 'Samsung', 'LG', 'Motorola']\n"
          ]
        }
      ]
    },
    {
      "cell_type": "markdown",
      "source": [
        "##1.8 Data Structures- Tuple\n",
        "\n",
        "Tupes are immutable, similar to a list. Instead of square brackets and we use a parenthesis.\n"
      ],
      "metadata": {
        "id": "yWFJu0_QEI5V"
      }
    },
    {
      "cell_type": "code",
      "source": [
        "Brand = 'Apple'\n",
        "print(Brand)"
      ],
      "metadata": {
        "id": "5VHhoXkPBcNm",
        "colab": {
          "base_uri": "https://localhost:8080/"
        },
        "outputId": "5d68ef80-7bd3-4621-a9c9-0be1fa359a46"
      },
      "execution_count": 19,
      "outputs": [
        {
          "output_type": "stream",
          "name": "stdout",
          "text": [
            "Apple\n"
          ]
        }
      ]
    },
    {
      "cell_type": "code",
      "source": [
        "# create a list\n",
        "brand_list = ['Apple', 'Samsung', 'LG', 'Apple']\n",
        "brand_list"
      ],
      "metadata": {
        "id": "f0MHEjHRBd38",
        "colab": {
          "base_uri": "https://localhost:8080/"
        },
        "outputId": "97dabda7-f4a1-4e53-d7b1-b310e3ddd9ed"
      },
      "execution_count": 20,
      "outputs": [
        {
          "output_type": "execute_result",
          "data": {
            "text/plain": [
              "['Apple', 'Samsung', 'LG', 'Apple']"
            ]
          },
          "metadata": {},
          "execution_count": 20
        }
      ]
    },
    {
      "cell_type": "code",
      "source": [
        "storage_tuple= (64,64,128)\n",
        "print(storage_tuple)\n",
        "print(storage_tuple[2])\n",
        "print('RAM List:', ram_list)\n",
        "print('Storage List:', storage_list)\n",
        "print('Price List:', price_list)\n",
        "\n",
        "#storage_tuple[1]=60 # this will give an error because you cannot change tuples"
      ],
      "metadata": {
        "colab": {
          "base_uri": "https://localhost:8080/"
        },
        "id": "OkNyKZuONLR8",
        "outputId": "2615151d-e5b5-45fb-ecbc-477228897dba"
      },
      "execution_count": 21,
      "outputs": [
        {
          "output_type": "stream",
          "name": "stdout",
          "text": [
            "(64, 64, 128)\n",
            "128\n",
            "RAM List: [4, 12, 8, 8]\n",
            "Storage List: [128, 128, 64, 128]\n",
            "Price List: [900, 899, 600, 1500]\n"
          ]
        }
      ]
    },
    {
      "cell_type": "markdown",
      "source": [
        "##1.9 Data Structures - Dictionary\n",
        "Dictionaries will have attributes with keys and the key will have a value,\n",
        "Also these will have strings indexing them and we will use curly brackets to assign it and we separate with commas and use a colon for the key and value seperation.\n"
      ],
      "metadata": {
        "id": "7l_fiLffEI84"
      }
    },
    {
      "cell_type": "code",
      "source": [
        "attributes = {'Brand': 'Apple',\n",
        "              'RAM': 4,\n",
        "              'Storage': 128,\n",
        "              'Price in $':1000}\n",
        "print(attributes)\n",
        "print(attributes['Price in $'])\n",
        "#in dictionaries you can do reassignments\n",
        "attributes = {'Brand': 'Apple',\n",
        "              'RAM': 4,\n",
        "              'Storage': 128,\n",
        "              'Price in $':1000}\n",
        "attributes['Price in $']=900\n",
        "print(attributes)\n",
        "\n",
        "products={\n",
        "    'Brand':brand_list,\n",
        "    'RAM':ram_list,\n",
        "    'Storage': storage_list,\n",
        "    'Price in $':price_list\n",
        "    }\n",
        "\n",
        "print(products)\n",
        "keys=products.keys()\n",
        "print('The keys of the dictionary Products are:\\n', keys)\n",
        "\n",
        "values=products.values()\n",
        "print('The values of the dictionary Products are:\\n', values)\n",
        "\n"
      ],
      "metadata": {
        "id": "7qJ920NaQsWC",
        "colab": {
          "base_uri": "https://localhost:8080/"
        },
        "outputId": "7f413ed5-ecd9-4865-c24d-3d5a67f2ea29"
      },
      "execution_count": 22,
      "outputs": [
        {
          "output_type": "stream",
          "name": "stdout",
          "text": [
            "{'Brand': 'Apple', 'RAM': 4, 'Storage': 128, 'Price in $': 1000}\n",
            "1000\n",
            "{'Brand': 'Apple', 'RAM': 4, 'Storage': 128, 'Price in $': 900}\n",
            "{'Brand': ['Apple', 'Samsung', 'LG', 'Apple'], 'RAM': [4, 12, 8, 8], 'Storage': [128, 128, 64, 128], 'Price in $': [900, 899, 600, 1500]}\n",
            "The keys of the dictionary Products are:\n",
            " dict_keys(['Brand', 'RAM', 'Storage', 'Price in $'])\n",
            "The values of the dictionary Products are:\n",
            " dict_values([['Apple', 'Samsung', 'LG', 'Apple'], [4, 12, 8, 8], [128, 128, 64, 128], [900, 899, 600, 1500]])\n"
          ]
        }
      ]
    },
    {
      "cell_type": "markdown",
      "source": [
        "##1.10 Conditonal Statements\n",
        "\n",
        "These are blocks of code that will execute if specific condiions are met.\n",
        "If-else is one of these conditional statements we can use and it can help us make the correct decision given the current data."
      ],
      "metadata": {
        "id": "RbPTliE4EI_p"
      }
    },
    {
      "cell_type": "code",
      "source": [
        "budget= int(input('Enter your budget amount'))\n",
        "price = 600\n",
        "if price <= budget:\n",
        "  print('Congrats, you can buy the phone')\n",
        "\n",
        "else:\n",
        "  print('Sorry the phone is outside of your budget.')\n",
        "\n",
        "\n",
        "\n",
        "\n",
        "# You can also make this happen with multiple options.\n",
        "memory= int(input('Enter your memory amount'))\n",
        "if memory==32:\n",
        "  print('The price of the phone is $600')\n",
        "elif memory ==64:\n",
        "    print('The price of the phone is $700')\n",
        "elif memory ==128:\n",
        "    print('The price of the phone is $900')\n",
        "else:\n",
        "  print('Please Enter a valid memory requirement.')\n",
        "\n",
        "\n",
        "\n",
        "\n",
        "\n",
        "\n"
      ],
      "metadata": {
        "colab": {
          "base_uri": "https://localhost:8080/"
        },
        "id": "ZI8w5oqfQtuz",
        "outputId": "d25b3362-978d-471e-a82d-0828b714c9cb"
      },
      "execution_count": 23,
      "outputs": [
        {
          "output_type": "stream",
          "name": "stdout",
          "text": [
            "Enter your budget amount800\n",
            "Congrats, you can buy the phone\n",
            "Enter your memory amount64\n",
            "The price of the phone is $700\n"
          ]
        }
      ]
    },
    {
      "cell_type": "markdown",
      "source": [
        "##1.11 Looping Statements\n"
      ],
      "metadata": {
        "id": "Giw-t4vtqvbN"
      }
    },
    {
      "cell_type": "code",
      "source": [
        "print (range(6))\n",
        "print (list(range(6)))\n",
        "print (list(range(2,6)))\n",
        "print (list(range(6,15,2)))"
      ],
      "metadata": {
        "id": "AGZqUsFGq1Yy",
        "colab": {
          "base_uri": "https://localhost:8080/"
        },
        "outputId": "fe4a8812-679f-421d-9eba-d463c99ee5ac"
      },
      "execution_count": 24,
      "outputs": [
        {
          "output_type": "stream",
          "name": "stdout",
          "text": [
            "range(0, 6)\n",
            "[0, 1, 2, 3, 4, 5]\n",
            "[2, 3, 4, 5]\n",
            "[6, 8, 10, 12, 14]\n"
          ]
        }
      ]
    },
    {
      "cell_type": "code",
      "source": [
        "price=900\n",
        "for i in range(5,21,5):\n",
        "  discount = price *(i/100)\n",
        "  discounted_price= price - discount\n",
        "  print('The price after providing ', i, ' percent discount is $', discounted_price, sep='')"
      ],
      "metadata": {
        "id": "WuBElgSEPVRq",
        "colab": {
          "base_uri": "https://localhost:8080/"
        },
        "outputId": "3aa288a0-038a-43b1-cee6-ce8ac7c44273"
      },
      "execution_count": 25,
      "outputs": [
        {
          "output_type": "stream",
          "name": "stdout",
          "text": [
            "The price after providing 5 percent discount is $855.0\n",
            "The price after providing 10 percent discount is $810.0\n",
            "The price after providing 15 percent discount is $765.0\n",
            "The price after providing 20 percent discount is $720.0\n"
          ]
        }
      ]
    },
    {
      "cell_type": "markdown",
      "source": [
        "##1.12 Looping Statements,  While Loop"
      ],
      "metadata": {
        "id": "hyXO7EwLqwho"
      }
    },
    {
      "cell_type": "code",
      "source": [
        "price = 900\n",
        "i=5\n",
        "while i <= 20:\n",
        "  discount = price *(i/100)\n",
        "  discounted_price= price - discount\n",
        "  print('The price after providing ', i, ' percent discount is $', discounted_price, sep='')\n",
        "  i +=5\n",
        "\n",
        "\n",
        "\n",
        "a=1\n",
        "for i in range(1,6):\n",
        "  a=a*i\n",
        "  print(a)\n",
        "\n"
      ],
      "metadata": {
        "id": "qecqB3R9Y1_d",
        "colab": {
          "base_uri": "https://localhost:8080/"
        },
        "outputId": "39e7812f-94b0-4b38-ad9a-2f856d285d70"
      },
      "execution_count": 26,
      "outputs": [
        {
          "output_type": "stream",
          "name": "stdout",
          "text": [
            "The price after providing 5 percent discount is $855.0\n",
            "The price after providing 10 percent discount is $810.0\n",
            "The price after providing 15 percent discount is $765.0\n",
            "The price after providing 20 percent discount is $720.0\n",
            "1\n",
            "2\n",
            "6\n",
            "24\n",
            "120\n"
          ]
        }
      ]
    },
    {
      "cell_type": "markdown",
      "source": [
        "##1.13 List Comprehension\n",
        "\n",
        "So you can create a loop to iterate through or create a new list with specific instructions. The long logic breakdown is the one below, the one after is where we combine it all into one statement and we learned about"
      ],
      "metadata": {
        "id": "qlDux77_qwrn"
      }
    },
    {
      "cell_type": "code",
      "source": [
        "price_list=[900,899, 600, 1000]\n",
        "discounted_price_list=[]\n",
        "\n",
        "for x in price_list:\n",
        "  discounted_price=x-(x*(5/100))\n",
        "  discounted_price_list.append(discounted_price)\n",
        "\n",
        "print(discounted_price_list)\n",
        "\n",
        "\n",
        "discounted_price_list= [x-(x*(5/100)) for x in price_list]\n",
        "print(discounted_price_list)\n",
        "\n",
        "budget= int(input('Enter your budget in dollars: '))\n",
        "\n",
        "\n",
        "within_budget = ['yes' if x <= budget else 'no' for x in discounted_price_list]\n",
        "print(within_budget)"
      ],
      "metadata": {
        "id": "71Pv8O-ro0dh",
        "colab": {
          "base_uri": "https://localhost:8080/"
        },
        "outputId": "f117a05a-2054-4bb0-cc57-644fb4194a6c"
      },
      "execution_count": 27,
      "outputs": [
        {
          "output_type": "stream",
          "name": "stdout",
          "text": [
            "[855.0, 854.05, 570.0, 950.0]\n",
            "[855.0, 854.05, 570.0, 950.0]\n",
            "Enter your budget in dollars: 1000\n",
            "['yes', 'yes', 'yes', 'yes']\n"
          ]
        }
      ]
    },
    {
      "cell_type": "markdown",
      "source": [
        "##1.14 Functions\n",
        "Python functions are instructions of code that perform a specific task.\n",
        "we can create our own functions and we don't have to rely on just the preexisting ones.\n",
        "\n",
        "you define one by using the following syntax:\n",
        "\n",
        "def function_name(parameters):\n",
        "\"function \"\n",
        "statements(s)\n"
      ],
      "metadata": {
        "id": "koXEcCIxqwxy"
      }
    },
    {
      "cell_type": "code",
      "source": [
        "def display_iphone_attributes():\n",
        "  #this function will display the stored attributes of the apple iphone\n",
        "  price=900\n",
        "  ram=4\n",
        "  storage=128\n",
        "  print('The apple iphone has ', ram, ' GB RAM and ' , storage, ' GB internal sotrage and it costs $', price , sep='')\n",
        "\n",
        "display_iphone_attributes() # don't forget to get the correct indentation when calling the function\n",
        "\n",
        "\n",
        "#since this code uses 3 attributes, price, ram and storage. You can also create one function and include the arguments in the definition so it know to expect them and then the body of the function is shorter.\n",
        "#EXAMPLE\n",
        "brand = 'apple'\n",
        "price=900\n",
        "ram=4\n",
        "storage=128\n",
        "def display_iphone_attributes(brand,price, ram, storage):\n",
        "  print('The ', brand,' iphone has ', ram, ' GB RAM and ' , storage, ' GB internal sotrage and it costs $', price , sep='')\n",
        "display_iphone_attributes(brand, price, ram, storage)\n",
        "\n",
        "\n",
        "display_iphone_attributes('samsung' ,800, 64, 256)\n",
        "\n",
        "# and you can change the values as you see fit as well.\n",
        "\n"
      ],
      "metadata": {
        "id": "8V17sqEZHocd",
        "colab": {
          "base_uri": "https://localhost:8080/"
        },
        "outputId": "a6e2ea4a-d160-40a9-a83b-774681700ef6"
      },
      "execution_count": 28,
      "outputs": [
        {
          "output_type": "stream",
          "name": "stdout",
          "text": [
            "The apple iphone has 4 GB RAM and 128 GB internal sotrage and it costs $900\n",
            "The apple iphone has 4 GB RAM and 128 GB internal sotrage and it costs $900\n",
            "The samsung iphone has 64 GB RAM and 256 GB internal sotrage and it costs $800\n"
          ]
        }
      ]
    },
    {
      "cell_type": "markdown",
      "source": [
        "##1.15 LAMBDA Functions. & return statemnts.\n",
        "\n",
        "return statements are what run after a function has run and it will send back the end resulto of that function.\n"
      ],
      "metadata": {
        "id": "F0ypuseEx8oW"
      }
    },
    {
      "cell_type": "code",
      "source": [
        "def dis_price(discount):\n",
        "  price =900\n",
        "  discounted_price= price - price *(discount/100)\n",
        "  return discounted_price\n",
        "dp=dis_price(10)\n",
        "print(dp)\n",
        "\n",
        "dis_price_lambda= lambda discount :900-(900*(discount/100))\n",
        "print(dis_price_lambda(10))\n",
        "\n",
        "\n",
        "\n",
        "\n",
        "\n",
        "\n"
      ],
      "metadata": {
        "id": "doX54QMoPQiL",
        "colab": {
          "base_uri": "https://localhost:8080/"
        },
        "outputId": "cc7e5e96-0efc-43a8-d7db-e81eadd37808"
      },
      "execution_count": 29,
      "outputs": [
        {
          "output_type": "stream",
          "name": "stdout",
          "text": [
            "810.0\n",
            "810.0\n"
          ]
        }
      ]
    },
    {
      "cell_type": "markdown",
      "source": [
        "##1.16 Function - args"
      ],
      "metadata": {
        "id": "vexjB4SAqxT1"
      }
    },
    {
      "cell_type": "code",
      "source": [
        "def total_amount_due(price1, price2, price3, price4, price5):\n",
        "  total= price1+price2+price3+price4+price5\n",
        "  return total\n",
        "\n",
        "print(total_amount_due(1,2,3,4,5))\n",
        "\n",
        "\n",
        "# but what if we have an infinite set of numbers.  like when we go grocery shopping, and we don't know how many items will be rung up?\n",
        "\n",
        "def total_amount (*prices):\n",
        "  total=0\n",
        "  for price in prices:\n",
        "    total += price\n",
        "  return total\n",
        "\n",
        "print(total_amount(5,12,1,2,3,4,5,6))\n",
        "\n",
        "\n",
        "\n",
        "\n",
        "\n"
      ],
      "metadata": {
        "id": "ZS8rrRSRfeGf",
        "colab": {
          "base_uri": "https://localhost:8080/"
        },
        "outputId": "e60515b5-084b-4a6f-8d47-2107d9c1346e"
      },
      "execution_count": 30,
      "outputs": [
        {
          "output_type": "stream",
          "name": "stdout",
          "text": [
            "15\n",
            "38\n"
          ]
        }
      ]
    },
    {
      "cell_type": "markdown",
      "source": [
        "##1.17 Function -kwargs\n",
        "in case we want to create a function for a store where we can change the sale and the where we can rung up x amount of items in a purchase\n"
      ],
      "metadata": {
        "id": "v_6u-HTGQuMy"
      }
    },
    {
      "cell_type": "code",
      "source": [
        "def total_discounted_amount(*prices, discount=0.0):\n",
        "\n",
        "  total= 0\n",
        "  for price in prices:\n",
        "    total +=price\n",
        "  total_discounted_price = total - discount*total\n",
        "  return total_discounted_price\n",
        "\n",
        "print('total discounted order amount:', total_discounted_amount(700,599,650,900,820,630,630,520,799,999,840))\n",
        "print('total discounted order amount:', total_discounted_amount(700,599,650,900,820,630,630,520,799,999,840, discount=.05))\n",
        "\n"
      ],
      "metadata": {
        "id": "j19dwHoTQutL",
        "colab": {
          "base_uri": "https://localhost:8080/"
        },
        "outputId": "3bff4ec9-1e18-4dca-a4aa-53eee0935c38"
      },
      "execution_count": 31,
      "outputs": [
        {
          "output_type": "stream",
          "name": "stdout",
          "text": [
            "total discounted order amount: 8087.0\n",
            "total discounted order amount: 7682.65\n"
          ]
        }
      ]
    },
    {
      "cell_type": "code",
      "source": [
        "def total_discounted_amount(*prices, discount=0.0, **kwargs):\n",
        "\n",
        "  total= 0\n",
        "  for price in prices:\n",
        "    total +=price\n",
        "  total_discounted_price = total - discount*total\n",
        "  net_spend= total_discounted_price-kwargs['cashback']\n",
        "  print(total_discounted_price, net_spend)\n",
        "\n",
        "additionals= {'cashback':5}\n",
        "print('total discounted order amount:', total_discounted_amount(700,599,650,900,820,630,630,520,799,999,840,discount=0.05, **additionals))\n",
        "\n"
      ],
      "metadata": {
        "id": "SiLwq_2MSGIO",
        "colab": {
          "base_uri": "https://localhost:8080/"
        },
        "outputId": "150290e4-f2d4-4f6d-96e0-7996451cb3df"
      },
      "execution_count": 32,
      "outputs": [
        {
          "output_type": "stream",
          "name": "stdout",
          "text": [
            "7682.65 7677.65\n",
            "total discounted order amount: None\n"
          ]
        }
      ]
    },
    {
      "cell_type": "code",
      "source": [
        "def total_discounted_amount(*prices, discount=0.0, **kwargs):\n",
        "\n",
        "  total= 0\n",
        "  for price in prices:\n",
        "    total +=price\n",
        "  total_discounted_price = total - discount*total\n",
        "  net_spend= total_discounted_price-kwargs['cashback']\n",
        "  if total >+10000:\n",
        "    reward_points=300\n",
        "  elif total >=5000:\n",
        "    reward_points=200\n",
        "  elif total >=2000:\n",
        "    reward_points=100\n",
        "  else:\n",
        "    reward_points=0\n",
        "\n",
        "  print(total_discounted_price, net_spend, reward_points)\n",
        "\n",
        "additionals= {'cashback':5}\n",
        "print('total discounted order amount:', total_discounted_amount(700,599,650,900,820,630,630,520,799,999,840,discount=0.05, **additionals))\n"
      ],
      "metadata": {
        "id": "jiSjJ-RFe5Dt",
        "colab": {
          "base_uri": "https://localhost:8080/"
        },
        "outputId": "fe6c0a18-7f37-4cd3-de20-915f3ab06e63"
      },
      "execution_count": 33,
      "outputs": [
        {
          "output_type": "stream",
          "name": "stdout",
          "text": [
            "7682.65 7677.65 200\n",
            "total discounted order amount: None\n"
          ]
        }
      ]
    },
    {
      "cell_type": "markdown",
      "source": [
        "##QUIZ FOR 1.1"
      ],
      "metadata": {
        "id": "Snq6NVb3165n"
      }
    },
    {
      "cell_type": "code",
      "source": [
        "#QUIZ FOR 1.1\n",
        "#1\n",
        "a=10\n",
        "b=5.1\n",
        "add= a+b\n",
        "print(type(add))\n",
        "\n",
        "#2\n",
        "5==3+2\n",
        "\n",
        "#3\n",
        "a=3\n",
        "print(a+(33))\n",
        "\n",
        "#4\n",
        "a='5a'\n",
        "\n",
        "#print(type(int(a)))\n",
        "\n",
        "#5\n",
        "v = 10\n",
        "w = 25\n",
        "x = 70\n",
        "y = 2\n",
        "z = (v + w) * (x / y)\n",
        "print(z)\n",
        "\n",
        "#6\n",
        "a = 10\n",
        "b = 5\n",
        "print(\"A and B before swapping {},{}\".format(a,b))\n",
        "temp = a #create a third variable and assign the value of a to it\n",
        "#write the missing code(code missing here)\n",
        "a=b\n",
        "b = temp #value of a is in third variable so assign the value to b\n",
        "\n",
        "print(\"A and B after swapping {},{}\".format(a,b))\n",
        "\n",
        "#7\n",
        "celsius = 35\n",
        "fah = 1.8 * celsius + 32\n",
        "print(\"Temperature in Fahrenheit =\", fah)"
      ],
      "metadata": {
        "id": "kNVwwdYTMoGa",
        "colab": {
          "base_uri": "https://localhost:8080/"
        },
        "outputId": "131f8b73-1c92-4559-9b7a-36d04fd07963"
      },
      "execution_count": 37,
      "outputs": [
        {
          "output_type": "stream",
          "name": "stdout",
          "text": [
            "<class 'float'>\n",
            "36\n",
            "1225.0\n",
            "A and B before swapping 10,5\n",
            "A and B after swapping 5,10\n",
            "Temperature in Fahrenheit = 95.0\n"
          ]
        }
      ]
    },
    {
      "cell_type": "code",
      "source": [
        "print(type(price))\n",
        "print(type(brand))\n",
        "print(type(ram))\n",
        "print(type(storage))\n",
        "\n"
      ],
      "metadata": {
        "id": "FSMXXgFgMoAT",
        "colab": {
          "base_uri": "https://localhost:8080/"
        },
        "outputId": "89fb8b4d-d940-4413-f2e1-2aa67afd0057"
      },
      "execution_count": 38,
      "outputs": [
        {
          "output_type": "stream",
          "name": "stdout",
          "text": [
            "<class 'int'>\n",
            "<class 'str'>\n",
            "<class 'int'>\n",
            "<class 'int'>\n"
          ]
        }
      ]
    },
    {
      "cell_type": "code",
      "source": [
        "# you can use python to create operations on values\n",
        "price = 1000\n",
        "discount = 150\n",
        "finalPrice= price-discount\n",
        "print('Final price after discount is $',finalPrice, sep='')"
      ],
      "metadata": {
        "id": "7VFGAkZ_MoDf",
        "colab": {
          "base_uri": "https://localhost:8080/"
        },
        "outputId": "05c8e750-5047-4790-ea88-f775ac184937"
      },
      "execution_count": 39,
      "outputs": [
        {
          "output_type": "stream",
          "name": "stdout",
          "text": [
            "Final price after discount is $850\n"
          ]
        }
      ]
    },
    {
      "cell_type": "markdown",
      "source": [
        "## QUIZ  1.2- Collection to Variables"
      ],
      "metadata": {
        "id": "CHQKVkz31OC0"
      }
    },
    {
      "cell_type": "code",
      "source": [
        "#QUIZ FOR 1.2- Collection to Variables\n",
        "#1\n",
        "repeated_list = [2] * 4\n",
        "print(repeated_list)\n",
        "\n",
        "\n",
        "#2\n",
        "fruit = [\"apple\",\"orange\",\"grapes\",\"watermelon\"]\n",
        "print(fruit[-2])\n",
        "\n",
        "#3\n",
        "fruit = [\"apple\",\"orange\",\"grapes\",\"watermelon\"]\n",
        "fruit[0] = \"strawberries\"\n",
        "print(fruit)\n",
        "\n",
        "#4\n",
        "alphabet = ['a','b','c']\n",
        "for i in alphabet:\n",
        " print(i)\n",
        "\n",
        "\n",
        "#5\n",
        "number = [1, 12, 24, 36, 11, 20,50]\n",
        "for i in number:\n",
        " sq = i * i\n",
        " print(sq)\n",
        "print(len(number))\n",
        "\n",
        "\n",
        "#6\n",
        "color = ['white','red', 'blue', 'green','blue','yellow', 'black']\n",
        "color.pop(5)#6how to pop an item\n",
        "print(color)\n",
        "print(len(color))#8 how to print the color\n",
        "\n",
        "#9how to declare it\n",
        "car = { \"brand\" : \"Audi\",\"model\" : \"Q2\", \"year\" : 1980}\n",
        "car[\"year\"] = 2019 #10 how to change the year\n",
        "print(car)\n",
        "\n",
        "\n",
        "#DAMMMNNN it, i got a 9/10 cuz i forgot to answer a question.\n",
        "\n",
        "alphabets = {'1':'A','2':'B','3': ['C','D','E']}\n",
        "alphabets['3'][2]\n",
        "\n",
        "list = [\"Great\", 51, True, 46, \"Hi\"]\n",
        "list[2:-1]\n",
        "\n",
        "list_mul = ['2','2','2']\n",
        "list_mul*2\n",
        "\n",
        "lambda_cube = lambda n: n*n*n\n",
        "print(lambda_cube)"
      ],
      "metadata": {
        "id": "W7jv3_POd9R_",
        "colab": {
          "base_uri": "https://localhost:8080/"
        },
        "outputId": "e08faa87-989b-4f10-f649-5bdc9f281c24"
      },
      "execution_count": 40,
      "outputs": [
        {
          "output_type": "stream",
          "name": "stdout",
          "text": [
            "[2, 2, 2, 2]\n",
            "grapes\n",
            "['strawberries', 'orange', 'grapes', 'watermelon']\n",
            "a\n",
            "b\n",
            "c\n",
            "1\n",
            "144\n",
            "576\n",
            "1296\n",
            "121\n",
            "400\n",
            "2500\n",
            "7\n",
            "['white', 'red', 'blue', 'green', 'blue', 'black']\n",
            "6\n",
            "{'brand': 'Audi', 'model': 'Q2', 'year': 2019}\n",
            "<function <lambda> at 0x7dd5284efeb0>\n"
          ]
        }
      ]
    },
    {
      "cell_type": "markdown",
      "source": [
        "##QUIZ FOR 1.3- Conditional Statements\n"
      ],
      "metadata": {
        "id": "aWuDTyfymayf"
      }
    },
    {
      "cell_type": "code",
      "source": [
        "#QUIZ FOR 1.3\n",
        "#1 what will this print\n",
        "a = 56\n",
        "if a == 10:\n",
        " print(\"Hello\")\n",
        "else:\n",
        " print(\"Good Bye\")\n",
        "\n",
        "#2 Choose the appropriate snippet to check whether a number is even or odd:\n",
        "a = 2020\n",
        "if a % 2 == 0:\n",
        " print(\"Number is Even\")\n",
        "else:\n",
        " print(\"Number is Odd\")\n",
        "\n",
        "#3 what's the output\n",
        "\n",
        "length = 5\n",
        "breadth = 10\n",
        "# find the area and perimeter of the rectangle\n",
        "Area = length * breadth\n",
        "Perimeter = 2 * (length + breadth)\n",
        "# check whether the area of the rectangle is greater than the perimeter of the rectangle\n",
        "if Area > Perimeter:\n",
        " print(\"Area of the rectangle is greater than the Perimeter of the rectangle\")\n",
        "else:\n",
        " print(\"Perimeter of the rectangle is greater than the Area of the rectangle\")\n",
        "\n",
        "\n",
        "#4\n",
        "\n",
        "m1 = 72\n",
        "m2 = 85\n",
        "m3 = 96\n",
        "m4 = 42\n",
        "m5 = 95\n",
        "avg = (m1 + m2 + m3 + m4 + m5) / 5\n",
        "print(\"Average=\", avg)\n",
        "if avg > 90:\n",
        " print(\"Grade A\")\n",
        "elif avg > 80:\n",
        " print(\"Grade B\")\n",
        "elif avg > 70:\n",
        " print(\"Grade C\")\n",
        "elif avg > 60:\n",
        " print(\"Grade D\")\n",
        "elif avg > 50:\n",
        " print(\"Grade E\")\n",
        "else:\n",
        " print(\"Fail\")\n",
        "\n",
        "\n",
        "#5\n",
        "\n",
        "x = 6\n",
        "y = 8\n",
        "z = 12\n",
        "if x == y == z:\n",
        "  print(\"Equilateral triangle\")\n",
        "elif x==y or y==z or z==x:\n",
        "  print(\"isosceles triangle\")\n",
        "else:\n",
        "  print(\"Scalene triangle\")\n",
        "\n",
        "\n",
        "#6\n",
        "\n",
        "\n",
        "a = \"I am a Data Scientist\"\n",
        "if \"Data\" in a:\n",
        " print(\"It is present\")\n",
        "else:\n",
        " print(False)\n",
        "\n",
        "#7\n",
        "a = -99\n",
        "if a > 0:\n",
        " print(\"Number is Positive\")\n",
        "else:\n",
        " print(\"Number is negative\")\n",
        "\n",
        "#8\n",
        "\n",
        "x = 20\n",
        "y = 30\n",
        "if x < y:\n",
        " print(\"X is less than Y\")\n",
        "#9\n",
        "age = int(input('Enter your age: '))\n",
        "if age < 18:\n",
        " print(\"Not Eligible for work\")\n",
        "elif age >= 18 and age <= 60:\n",
        " print(\"Eligible to work\")\n",
        "else:\n",
        " print(\"Too old to work as per the government rules\")\n",
        "\n",
        "\n",
        "\n",
        "#10\n",
        "\n",
        "first = 25\n",
        "second = 34\n",
        "third = 45\n",
        "if first >= second and first >= third:\n",
        " print(first)\n",
        "elif second >= first and second >= third:\n",
        " print(second)\n",
        "elif third >= first and third >= second:\n",
        " print(third)\n",
        "else:\n",
        " print(\"All of the values are equal\")\n"
      ],
      "metadata": {
        "id": "Tp3JxwFSmbLO",
        "colab": {
          "base_uri": "https://localhost:8080/"
        },
        "outputId": "a7e770b9-9fe1-4ea8-8e35-6e207bef89aa"
      },
      "execution_count": 41,
      "outputs": [
        {
          "output_type": "stream",
          "name": "stdout",
          "text": [
            "Good Bye\n",
            "Number is Even\n",
            "Area of the rectangle is greater than the Perimeter of the rectangle\n",
            "Average= 78.0\n",
            "Grade C\n",
            "Scalene triangle\n",
            "It is present\n",
            "Number is negative\n",
            "X is less than Y\n",
            "Enter your age: 60\n",
            "Eligible to work\n",
            "45\n"
          ]
        }
      ]
    },
    {
      "cell_type": "markdown",
      "source": [
        "## QUIZ 1.4 Looping Statements"
      ],
      "metadata": {
        "id": "AcoEMiAA0ztQ"
      }
    },
    {
      "cell_type": "code",
      "source": [
        "#QUIZ FOR 1.4\n",
        "#1 Which among the below snippets can be used to print all integers between -10 to -1 including both -10 and -1?\n",
        "\n",
        "for i in range(-10, 0, 1):\n",
        " print(i)\n",
        "#2\n",
        "\n",
        "n = 10\n",
        "i = 1\n",
        "while i <= n:\n",
        " print(i)\n",
        " i = i + 1\n",
        "\n",
        "#3\n",
        "\n",
        "for i in range(1, 21):\n",
        " if i % 2 == 0:\n",
        "     print(i)\n",
        "\n",
        "\n",
        "#4\n",
        "\n",
        "n = 8\n",
        "for i in range(1, 11):\n",
        " print(\"{} ^ {} =\".format(n, i), n**i)\n",
        "\n",
        "#5\n",
        "for i in range(1, 101):\n",
        " if(i % 3 == 0 and i % 5 == 0):\n",
        "     print(\"FizzBuzz\")\n",
        " elif (i % 3 == 0):\n",
        "     print(\"Fizz\")\n",
        " elif(i % 5 == 0):\n",
        "     print(\"Buzz\")\n",
        " else:\n",
        "     print(i)\n"
      ],
      "metadata": {
        "id": "7u6rnA2twdr_",
        "colab": {
          "base_uri": "https://localhost:8080/"
        },
        "outputId": "bfa1ed15-216a-4e95-9d94-5c5fe92cbc73"
      },
      "execution_count": 42,
      "outputs": [
        {
          "output_type": "stream",
          "name": "stdout",
          "text": [
            "-10\n",
            "-9\n",
            "-8\n",
            "-7\n",
            "-6\n",
            "-5\n",
            "-4\n",
            "-3\n",
            "-2\n",
            "-1\n",
            "1\n",
            "2\n",
            "3\n",
            "4\n",
            "5\n",
            "6\n",
            "7\n",
            "8\n",
            "9\n",
            "10\n",
            "2\n",
            "4\n",
            "6\n",
            "8\n",
            "10\n",
            "12\n",
            "14\n",
            "16\n",
            "18\n",
            "20\n",
            "8 ^ 1 = 8\n",
            "8 ^ 2 = 64\n",
            "8 ^ 3 = 512\n",
            "8 ^ 4 = 4096\n",
            "8 ^ 5 = 32768\n",
            "8 ^ 6 = 262144\n",
            "8 ^ 7 = 2097152\n",
            "8 ^ 8 = 16777216\n",
            "8 ^ 9 = 134217728\n",
            "8 ^ 10 = 1073741824\n",
            "1\n",
            "2\n",
            "Fizz\n",
            "4\n",
            "Buzz\n",
            "Fizz\n",
            "7\n",
            "8\n",
            "Fizz\n",
            "Buzz\n",
            "11\n",
            "Fizz\n",
            "13\n",
            "14\n",
            "FizzBuzz\n",
            "16\n",
            "17\n",
            "Fizz\n",
            "19\n",
            "Buzz\n",
            "Fizz\n",
            "22\n",
            "23\n",
            "Fizz\n",
            "Buzz\n",
            "26\n",
            "Fizz\n",
            "28\n",
            "29\n",
            "FizzBuzz\n",
            "31\n",
            "32\n",
            "Fizz\n",
            "34\n",
            "Buzz\n",
            "Fizz\n",
            "37\n",
            "38\n",
            "Fizz\n",
            "Buzz\n",
            "41\n",
            "Fizz\n",
            "43\n",
            "44\n",
            "FizzBuzz\n",
            "46\n",
            "47\n",
            "Fizz\n",
            "49\n",
            "Buzz\n",
            "Fizz\n",
            "52\n",
            "53\n",
            "Fizz\n",
            "Buzz\n",
            "56\n",
            "Fizz\n",
            "58\n",
            "59\n",
            "FizzBuzz\n",
            "61\n",
            "62\n",
            "Fizz\n",
            "64\n",
            "Buzz\n",
            "Fizz\n",
            "67\n",
            "68\n",
            "Fizz\n",
            "Buzz\n",
            "71\n",
            "Fizz\n",
            "73\n",
            "74\n",
            "FizzBuzz\n",
            "76\n",
            "77\n",
            "Fizz\n",
            "79\n",
            "Buzz\n",
            "Fizz\n",
            "82\n",
            "83\n",
            "Fizz\n",
            "Buzz\n",
            "86\n",
            "Fizz\n",
            "88\n",
            "89\n",
            "FizzBuzz\n",
            "91\n",
            "92\n",
            "Fizz\n",
            "94\n",
            "Buzz\n",
            "Fizz\n",
            "97\n",
            "98\n",
            "Fizz\n",
            "Buzz\n"
          ]
        }
      ]
    },
    {
      "cell_type": "code",
      "source": [
        "#part two of quiz 1.4\n",
        "#6\n",
        "sum = 0\n",
        "for i in range(1, 101):\n",
        " sum = sum + i\n",
        "print(sum)\n",
        "\n",
        "\n",
        "#7\n",
        "for i in range(202, 321):\n",
        "    if i % 7 == 0 and i % 5 != 0:\n",
        "        print(i)\n",
        "#8\n",
        "st = \"Data Science\"\n",
        "count = 0\n",
        "for i in st:\n",
        " if i == \"a\" or i == \"e\" or i == \"i\" or i == \"o\" or i == \"u\":\n",
        "     count = count + 1\n",
        "print(count) # prints the vowels\n",
        "#9\n",
        "a = \"Data Science\"\n",
        "for i in range(0, 5):\n",
        " print(a)\n",
        "#10\n"
      ],
      "metadata": {
        "id": "WWWsXKW5yv71",
        "colab": {
          "base_uri": "https://localhost:8080/"
        },
        "outputId": "c18136b2-7802-4b8b-ab8a-7869a570f654"
      },
      "execution_count": 43,
      "outputs": [
        {
          "output_type": "stream",
          "name": "stdout",
          "text": [
            "5050\n",
            "203\n",
            "217\n",
            "224\n",
            "231\n",
            "238\n",
            "252\n",
            "259\n",
            "266\n",
            "273\n",
            "287\n",
            "294\n",
            "301\n",
            "308\n",
            "5\n",
            "Data Science\n",
            "Data Science\n",
            "Data Science\n",
            "Data Science\n",
            "Data Science\n"
          ]
        }
      ]
    },
    {
      "cell_type": "code",
      "source": [
        "def num(x):\n",
        " y = x * x\n",
        " z = y + 5\n",
        " return z\n",
        "\n",
        "print(num(5))"
      ],
      "metadata": {
        "id": "wF5paQla7Bpl",
        "colab": {
          "base_uri": "https://localhost:8080/"
        },
        "outputId": "a7835fe2-bca3-4583-d125-e67ed032df5c"
      },
      "execution_count": 44,
      "outputs": [
        {
          "output_type": "stream",
          "name": "stdout",
          "text": [
            "30\n"
          ]
        }
      ]
    },
    {
      "cell_type": "markdown",
      "source": [
        "##QUIZ 1.5 Functions Quiz\n"
      ],
      "metadata": {
        "id": "GnB3sDwP09jO"
      }
    },
    {
      "cell_type": "code",
      "source": [
        "#quiz 1.5\n",
        "\n",
        "#1\n",
        "\n",
        "def mths(a, b):\n",
        " print(a + b)\n",
        " print(a - b)\n",
        " print(a * b)\n",
        " print(a // b)\n",
        "\n",
        "mths(9, 5)\n",
        "\n",
        "#2\n",
        "def sq():\n",
        " for i in range(1, 11):\n",
        "     print(i ** 2)\n",
        "\n",
        "\n",
        "\n",
        "#3\n",
        "def simple_interest(p, r, t):\n",
        " si = (p * r * t) / 100\n",
        " return si\n",
        "\n",
        "#4\n",
        " a=128\n",
        "def chk(a):\n",
        " if a % 25 == 0:\n",
        "     return True\n",
        " else:\n",
        "     print(\"Not Divisible\")\n",
        "\n",
        "#5\n",
        "def num(x):\n",
        " y = x * x\n",
        " z = y + 5\n",
        " return z\n",
        "\n",
        "print(num(5))\n",
        "\n",
        "#6 Choose the appropriate code snippet to define a lambda function that performs the following task: Takes an input, squares it, adds 5, then return the answer\n",
        "function = lambda x: x * x + 5\n",
        "\n",
        "#7\n",
        "def power(a, b):\n",
        " return a ** b\n",
        "power(7,2)\n",
        "\n",
        "#8\n",
        "def sq(base, height):\n",
        " return 0.5 * base * height\n",
        "sq(5, 10)\n",
        "\n",
        "#9\n",
        "def greet(country):\n",
        " print(\"I am from\", country)\n",
        "greet(\"Sweden\")\n",
        "\n",
        "#10\n",
        "\n",
        "\n",
        "def convert(celsius):\n",
        " fah = 1.8 * celsius + 32\n",
        " print(\"Temperature in Fahrenheit =\", fah)\n",
        "convert(20)"
      ],
      "metadata": {
        "id": "Yk6UxDdx3cL2",
        "colab": {
          "base_uri": "https://localhost:8080/"
        },
        "outputId": "513ba4af-55a4-4eec-83a8-6ca0ead905a5"
      },
      "execution_count": 45,
      "outputs": [
        {
          "output_type": "stream",
          "name": "stdout",
          "text": [
            "14\n",
            "4\n",
            "45\n",
            "1\n",
            "30\n",
            "I am from Sweden\n",
            "Temperature in Fahrenheit = 68.0\n"
          ]
        }
      ]
    },
    {
      "cell_type": "markdown",
      "source": [],
      "metadata": {
        "id": "Pk4MssDD6zgA"
      }
    },
    {
      "cell_type": "code",
      "source": [
        "def sq():\n",
        " for i in range(1, 10):\n",
        "     print(i ^ 2)"
      ],
      "metadata": {
        "id": "JJFTTbcK6_Bw"
      },
      "execution_count": 46,
      "outputs": []
    }
  ]
}